{
 "cells": [
  {
   "cell_type": "code",
   "execution_count": 1,
   "metadata": {},
   "outputs": [
    {
     "name": "stderr",
     "output_type": "stream",
     "text": [
      "Using TensorFlow backend.\n",
      "[nltk_data] Downloading package stopwords to\n",
      "[nltk_data]     C:\\Users\\yuzhu\\AppData\\Roaming\\nltk_data...\n",
      "[nltk_data]   Package stopwords is already up-to-date!\n"
     ]
    }
   ],
   "source": [
    "import pandas as pd \n",
    "import numpy as np\n",
    "import numpy as np \n",
    "import pickle\n",
    "import itertools\n",
    "\n",
    "import matplotlib.pyplot as plt\n",
    "import seaborn as sns\n",
    "\n",
    "import spacy\n",
    "import re\n",
    "import nltk, string\n",
    "from nltk.corpus import stopwords\n",
    "from textblob import TextBlob, Word\n",
    "\n",
    "from sklearn.feature_extraction.text import TfidfTransformer, TfidfVectorizer\n",
    "from sklearn.feature_selection import SelectKBest, chi2\n",
    "from sklearn.decomposition import TruncatedSVD\n",
    "from scipy.sparse import hstack, vstack\n",
    "from sklearn.metrics.pairwise import cosine_similarity\n",
    "\n",
    "from sklearn.preprocessing import StandardScaler, MinMaxScaler\n",
    "from sklearn.model_selection import train_test_split, cross_val_predict, cross_val_score, GridSearchCV\n",
    "from sklearn.model_selection import learning_curve, StratifiedShuffleSplit, StratifiedKFold, ShuffleSplit\n",
    "\n",
    "from sklearn.linear_model import LogisticRegression, SGDClassifier\n",
    "from sklearn.naive_bayes import MultinomialNB\n",
    "from sklearn.ensemble import GradientBoostingClassifier\n",
    "from sklearn.metrics import classification_report, confusion_matrix\n",
    "from sklearn.metrics import recall_score, accuracy_score, f1_score\n",
    "\n",
    "from keras.preprocessing.text import Tokenizer\n",
    "from keras.layers import Embedding\n",
    "from keras import preprocessing\n",
    "import numpy as np\n",
    "from sklearn.model_selection import train_test_split\n",
    "from numpy import array\n",
    "from numpy import asarray\n",
    "from numpy import zeros\n",
    "from keras.preprocessing.text import Tokenizer\n",
    "from keras.preprocessing.sequence import pad_sequences\n",
    "from keras.models import Sequential\n",
    "from keras.layers import Dense\n",
    "from keras.layers import Flatten\n",
    "from keras.layers import Embedding\n",
    "from keras.preprocessing import sequence\n",
    "from keras.layers import Embedding, SimpleRNN\n",
    "\n",
    "\n",
    "#load stopwords corpus\n",
    "import nltk\n",
    "nltk.download('stopwords')\n",
    "#load the en_core_web_sm \n",
    "import en_core_web_sm\n",
    "nlp = en_core_web_sm.load()"
   ]
  },
  {
   "cell_type": "code",
   "execution_count": 2,
   "metadata": {},
   "outputs": [],
   "source": [
    "CBS_NEWS=pd.read_csv(r\"C:\\Users\\yuzhu\\Documents\\725_2semester\\cbs_news_content.csv\",header=None)\n",
    "CBS_NEWS.columns=['link',\"title\",\"Author\",\"timestamp\",\"Paragraph_num\",\"Paragraph_text\",\"download_date\"]"
   ]
  },
  {
   "cell_type": "code",
   "execution_count": 4,
   "metadata": {},
   "outputs": [],
   "source": [
    "#create a stop words list\n",
    "stopWordList = [word for word in list(stopwords.words('english') ) if word not in ['no', 'not']]\n",
    "# all the data in this dataset is true news, then the target show all equal to 0\n",
    "CBS_NEWS[\"target\"]=0"
   ]
  },
  {
   "cell_type": "code",
   "execution_count": 5,
   "metadata": {},
   "outputs": [],
   "source": [
    "# list of punctuation that need to be removed\n",
    "punct_removal = list(string.punctuation) + [\"--\", \"---\"]\n",
    "# define the the word pattern\n",
    "word_pattern = r\"(?u)\\b\\w\\w+\\b\""
   ]
  },
  {
   "cell_type": "code",
   "execution_count": 6,
   "metadata": {},
   "outputs": [],
   "source": [
    "#check if NAN in columns\n",
    "CBS_NEWS[\"Paragraph_text\"].isnull().values.any()\n",
    "\n",
    "#check how many of NAN in columns\n",
    "CBS_NEWS[\"Paragraph_text\"].isnull().sum()\n",
    "# check how many NAN in the whole dataset\n",
    "CBS_NEWS.isnull().values.sum()\n",
    "\n",
    "# fill the NAN with whitespace\n",
    "CBS_NEWS[\"Paragraph_text\"]=CBS_NEWS[\"Paragraph_text\"].fillna(\" \")"
   ]
  },
  {
   "cell_type": "code",
   "execution_count": 7,
   "metadata": {},
   "outputs": [
    {
     "name": "stderr",
     "output_type": "stream",
     "text": [
      "C:\\Users\\yuzhu\\anaconda3\\lib\\site-packages\\ipykernel_launcher.py:5: SettingWithCopyWarning: \n",
      "A value is trying to be set on a copy of a slice from a DataFrame\n",
      "\n",
      "See the caveats in the documentation: https://pandas.pydata.org/pandas-docs/stable/user_guide/indexing.html#returning-a-view-versus-a-copy\n",
      "  \"\"\"\n"
     ]
    },
    {
     "name": "stdout",
     "output_type": "stream",
     "text": [
      "Wall time: 4min\n"
     ]
    }
   ],
   "source": [
    "%%time\n",
    "tokened_para=[]\n",
    "for i in range(len(CBS_NEWS)):\n",
    "    word_pat = re.compile(word_pattern, flags = re.UNICODE )\n",
    "\n",
    "    CBS_NEWS[\"Paragraph_text\"][i] = \" \".join(word_pat.findall(CBS_NEWS[\"Paragraph_text\"][i])).lower()\n",
    "    \n",
    "    tokens = nlp(CBS_NEWS[\"Paragraph_text\"][i])\n",
    "    #lemmatising tokens \n",
    "    tokens = [t.lemma_.strip() if t.lemma_ != \"-PRON-\" else t.lower_ for t in tokens]\n",
    "    #stopword and punctuation removal\n",
    "    tokens = [t for t in tokens if (t not in stopWordList and t not in punct_removal)]\n",
    "    processed_text = \" \".join(tokens)\n",
    "    tokened_para.append(processed_text) \n",
    "    "
   ]
  },
  {
   "cell_type": "code",
   "execution_count": 8,
   "metadata": {},
   "outputs": [
    {
     "name": "stderr",
     "output_type": "stream",
     "text": [
      "C:\\Users\\yuzhu\\anaconda3\\lib\\site-packages\\ipykernel_launcher.py:4: SettingWithCopyWarning: \n",
      "A value is trying to be set on a copy of a slice from a DataFrame\n",
      "\n",
      "See the caveats in the documentation: https://pandas.pydata.org/pandas-docs/stable/user_guide/indexing.html#returning-a-view-versus-a-copy\n",
      "  after removing the cwd from sys.path.\n"
     ]
    },
    {
     "name": "stdout",
     "output_type": "stream",
     "text": [
      "Wall time: 1min 26s\n"
     ]
    }
   ],
   "source": [
    "%%time\n",
    "tokened_title=[]\n",
    "for i in range(len(CBS_NEWS)):\n",
    "    word_pat = re.compile(word_pattern, flags = re.UNICODE )\n",
    "    CBS_NEWS[\"title\"][i] = \" \".join(word_pat.findall(CBS_NEWS[\"title\"][i])).lower()\n",
    "    tokens = nlp(CBS_NEWS[\"title\"][i])\n",
    "    #lemmatising tokens \n",
    "    tokens = [t.lemma_.strip() if t.lemma_ != \"-PRON-\" else t.lower_ for t in tokens]\n",
    "    #stopword and punctuation removal\n",
    "    tokens = [t for t in tokens if (t not in stopWordList and t not in punct_removal)]\n",
    "    processed_text = \" \".join(tokens)\n",
    "    tokened_title.append(processed_text) "
   ]
  },
  {
   "cell_type": "code",
   "execution_count": 9,
   "metadata": {},
   "outputs": [],
   "source": [
    "tokened_para_df=pd.DataFrame(tokened_para)\n",
    "tokened_title_df=pd.DataFrame(tokened_title)\n",
    "CBS_NEWS[\"tokened_para\"]=tokened_para_df\n",
    "CBS_NEWS[\"tokened_title\"]=tokened_title_df\n",
    "CBS_NEWS['all_text']=CBS_NEWS[\"tokened_title\"]+CBS_NEWS[\"tokened_para\"]"
   ]
  },
  {
   "cell_type": "code",
   "execution_count": 10,
   "metadata": {},
   "outputs": [
    {
     "data": {
      "text/plain": [
       "0       run nearly week late northrop grumman antares ...\n",
       "1       rocket russian build rd 181 first stage engine...\n",
       "2       climb away southeast directly plane space stat...\n",
       "3       launch come six day last minute abort last sun...\n",
       "4       pad climb orbit go smoothly supply ship releas...\n",
       "                              ...                        \n",
       "9434          gadget still good people use even year 2062\n",
       "9435    still many element jetson future people consta...\n",
       "9436                        may get fly car yet say cowan\n",
       "9437                                              exactly\n",
       "9438                                                 info\n",
       "Name: tokened_para, Length: 9439, dtype: object"
      ]
     },
     "execution_count": 10,
     "metadata": {},
     "output_type": "execute_result"
    }
   ],
   "source": [
    "# CBS_NEWS[[\"tokened_title\",\"tokened_para\",\"target\"]]\n",
    "CBS_NEWS[\"tokened_para\"]"
   ]
  },
  {
   "cell_type": "code",
   "execution_count": 11,
   "metadata": {},
   "outputs": [],
   "source": [
    "PEPPER_NEWS=pd.read_csv(r\"C:\\Users\\yuzhu\\Documents\\725_2semester\\pepper_news_content.csv\",header=None)"
   ]
  },
  {
   "cell_type": "code",
   "execution_count": 12,
   "metadata": {},
   "outputs": [],
   "source": [
    "PEPPER_NEWS.columns=PEPPER_NEWS.loc[0,]\n",
    "PEPPER_NEWS=PEPPER_NEWS.loc[1:,]"
   ]
  },
  {
   "cell_type": "code",
   "execution_count": 13,
   "metadata": {},
   "outputs": [
    {
     "data": {
      "text/plain": [
       "Index(['title', 'author', 'time_stamp', 'paragraph_num', 'paragragh'], dtype='object', name=0)"
      ]
     },
     "execution_count": 13,
     "metadata": {},
     "output_type": "execute_result"
    }
   ],
   "source": [
    "PEPPER_NEWS.columns"
   ]
  },
  {
   "cell_type": "code",
   "execution_count": 14,
   "metadata": {},
   "outputs": [],
   "source": [
    "PEPPER_NEWS[\"Paragraph_text\"]=PEPPER_NEWS[ 'paragragh'].fillna(\" \")\n",
    "PEPPER_NEWS[\"title\"]=PEPPER_NEWS[ 'title'].fillna(\" \")"
   ]
  },
  {
   "cell_type": "code",
   "execution_count": 15,
   "metadata": {},
   "outputs": [
    {
     "name": "stdout",
     "output_type": "stream",
     "text": [
      "Wall time: 15.1 s\n"
     ]
    }
   ],
   "source": [
    "%%time\n",
    "tokened_para_p=[]\n",
    "for i in range(1,len(PEPPER_NEWS)):\n",
    "    word_pat = re.compile(word_pattern, flags = re.UNICODE )\n",
    "\n",
    "    PEPPER_NEWS[\"Paragraph_text\"][i] = \" \".join(word_pat.findall(PEPPER_NEWS[\"Paragraph_text\"][i])).lower()\n",
    "    \n",
    "    tokens = nlp(PEPPER_NEWS[\"Paragraph_text\"][i])\n",
    "    #lemmatising tokens \n",
    "    tokens = [t.lemma_.strip() if t.lemma_ != \"-PRON-\" else t.lower_ for t in tokens]\n",
    "    #stopword and punctuation removal\n",
    "    tokens = [t for t in tokens if (t not in stopWordList and t not in punct_removal)]\n",
    "    processed_text = \" \".join(tokens)\n",
    "    tokened_para_p.append(processed_text) "
   ]
  },
  {
   "cell_type": "code",
   "execution_count": 16,
   "metadata": {},
   "outputs": [
    {
     "name": "stdout",
     "output_type": "stream",
     "text": [
      "Wall time: 10.2 s\n"
     ]
    }
   ],
   "source": [
    "%%time\n",
    "tokened_title_p=[]\n",
    "for i in range(1,len(PEPPER_NEWS)):\n",
    "    word_pat = re.compile(word_pattern, flags = re.UNICODE )\n",
    "    PEPPER_NEWS[\"title\"][i] = \" \".join(word_pat.findall(PEPPER_NEWS[\"title\"][i])).lower()\n",
    "    tokens = nlp(PEPPER_NEWS[\"title\"][i])\n",
    "    #lemmatising tokens \n",
    "    tokens = [t.lemma_.strip() if t.lemma_ != \"-PRON-\" else t.lower_ for t in tokens]\n",
    "    #stopword and punctuation removal\n",
    "    tokens = [t for t in tokens if (t not in stopWordList and t not in punct_removal)]\n",
    "    processed_text = \" \".join(tokens)\n",
    "    tokened_title_p.append(processed_text) "
   ]
  },
  {
   "cell_type": "code",
   "execution_count": 17,
   "metadata": {},
   "outputs": [],
   "source": [
    "tokened_para_p_df=pd.DataFrame(tokened_para_p)\n",
    "tokened_title_p_df=pd.DataFrame(tokened_title_p)\n",
    "PEPPER_NEWS[\"tokened_para\"]=tokened_para_p_df\n",
    "PEPPER_NEWS[\"tokened_title\"]=tokened_title_p_df\n",
    "PEPPER_NEWS['all_text']=PEPPER_NEWS[\"tokened_title\"]+PEPPER_NEWS[\"tokened_para\"]"
   ]
  },
  {
   "cell_type": "code",
   "execution_count": 18,
   "metadata": {},
   "outputs": [
    {
     "data": {
      "text/plain": [
       "Index(['title', 'Author', 'time_stamp', 'paragraph_num', 'paragragh',\n",
       "       'Paragraph_text', 'tokened_para', 'tokened_title', 'all_text',\n",
       "       'target'],\n",
       "      dtype='object', name=0)"
      ]
     },
     "execution_count": 18,
     "metadata": {},
     "output_type": "execute_result"
    }
   ],
   "source": [
    "PEPPER_NEWS['target']=1\n",
    "PEPPER_NEWS=PEPPER_NEWS.rename(columns={\"author\":\"Author\"})\n",
    "PEPPER_NEWS.columns"
   ]
  },
  {
   "cell_type": "code",
   "execution_count": 19,
   "metadata": {},
   "outputs": [],
   "source": [
    "CBS_NEWS=CBS_NEWS[['title', 'Author', 'tokened_para','tokened_title', 'all_text','target']]"
   ]
  },
  {
   "cell_type": "code",
   "execution_count": 20,
   "metadata": {},
   "outputs": [],
   "source": [
    "PEPPER_NEWS=PEPPER_NEWS[['title', 'Author', 'tokened_para','tokened_title', 'all_text','target']]"
   ]
  },
  {
   "cell_type": "code",
   "execution_count": 23,
   "metadata": {},
   "outputs": [],
   "source": [
    "NEWS_COMBINE=pd.concat([CBS_NEWS,PEPPER_NEWS],axis=0)\n",
    "NEWS_COMBINE=NEWS_COMBINE.dropna(subset=['tokened_title', 'tokened_para'])"
   ]
  },
  {
   "cell_type": "code",
   "execution_count": 24,
   "metadata": {},
   "outputs": [
    {
     "data": {
      "text/plain": [
       "(10949, 6)"
      ]
     },
     "execution_count": 24,
     "metadata": {},
     "output_type": "execute_result"
    }
   ],
   "source": [
    "NEWS_COMBINE.shape"
   ]
  },
  {
   "cell_type": "code",
   "execution_count": 25,
   "metadata": {},
   "outputs": [
    {
     "data": {
      "text/html": [
       "<div>\n",
       "<style scoped>\n",
       "    .dataframe tbody tr th:only-of-type {\n",
       "        vertical-align: middle;\n",
       "    }\n",
       "\n",
       "    .dataframe tbody tr th {\n",
       "        vertical-align: top;\n",
       "    }\n",
       "\n",
       "    .dataframe thead th {\n",
       "        text-align: right;\n",
       "    }\n",
       "</style>\n",
       "<table border=\"1\" class=\"dataframe\">\n",
       "  <thead>\n",
       "    <tr style=\"text-align: right;\">\n",
       "      <th></th>\n",
       "      <th>title</th>\n",
       "      <th>Author</th>\n",
       "      <th>tokened_para</th>\n",
       "      <th>tokened_title</th>\n",
       "      <th>all_text</th>\n",
       "    </tr>\n",
       "    <tr>\n",
       "      <th>target</th>\n",
       "      <th></th>\n",
       "      <th></th>\n",
       "      <th></th>\n",
       "      <th></th>\n",
       "      <th></th>\n",
       "    </tr>\n",
       "  </thead>\n",
       "  <tbody>\n",
       "    <tr>\n",
       "      <th>0</th>\n",
       "      <td>9439</td>\n",
       "      <td>5954</td>\n",
       "      <td>9439</td>\n",
       "      <td>9439</td>\n",
       "      <td>9439</td>\n",
       "    </tr>\n",
       "    <tr>\n",
       "      <th>1</th>\n",
       "      <td>1510</td>\n",
       "      <td>1510</td>\n",
       "      <td>1510</td>\n",
       "      <td>1510</td>\n",
       "      <td>1510</td>\n",
       "    </tr>\n",
       "  </tbody>\n",
       "</table>\n",
       "</div>"
      ],
      "text/plain": [
       "0       title  Author  tokened_para  tokened_title  all_text\n",
       "target                                                      \n",
       "0        9439    5954          9439           9439      9439\n",
       "1        1510    1510          1510           1510      1510"
      ]
     },
     "execution_count": 25,
     "metadata": {},
     "output_type": "execute_result"
    }
   ],
   "source": [
    "NEWS_COMBINE.groupby(\"target\").count()"
   ]
  },
  {
   "cell_type": "code",
   "execution_count": 26,
   "metadata": {},
   "outputs": [
    {
     "data": {
      "text/plain": [
       "0"
      ]
     },
     "execution_count": 26,
     "metadata": {},
     "output_type": "execute_result"
    }
   ],
   "source": [
    "NEWS_COMBINE[\"tokened_title\"].isnull().sum()"
   ]
  },
  {
   "cell_type": "code",
   "execution_count": 27,
   "metadata": {},
   "outputs": [
    {
     "data": {
      "text/plain": [
       "(10949, 6)"
      ]
     },
     "execution_count": 27,
     "metadata": {},
     "output_type": "execute_result"
    }
   ],
   "source": [
    "NEWS_COMBINE.shape"
   ]
  },
  {
   "cell_type": "code",
   "execution_count": 28,
   "metadata": {},
   "outputs": [
    {
     "name": "stdout",
     "output_type": "stream",
     "text": [
      "Train body matrix shape: \t (10949, 417398)\n",
      "Wall time: 4.09 s\n"
     ]
    }
   ],
   "source": [
    "%%time\n",
    "vec = TfidfVectorizer(ngram_range=(1,3))\n",
    "vec.fit(NEWS_COMBINE.all_text)\n",
    "vocab = vec.vocabulary_\n",
    "    \n",
    "# vecH = TfidfVectorizer(ngram_range=(1,3), max_df=0.8, vocabulary=vocab)\n",
    "# vecH.fit(NEWS_COMBINE.tokened_title.unique())\n",
    "    \n",
    "vecB = TfidfVectorizer(ngram_range=(1,3), max_df=0.8, vocabulary=vocab)\n",
    "vecB.fit(NEWS_COMBINE.tokened_para.unique())\n",
    "    \n",
    "# xHTrainTfidf = vecH.transform(NEWS_COMBINE.tokened_title)\n",
    "# print ('Train headline matrix shape: \\t', xHTrainTfidf.shape)\n",
    "    \n",
    "xBTrainTfidf = vecB.transform(NEWS_COMBINE.tokened_para)\n",
    "print('Train body matrix shape: \\t', xBTrainTfidf.shape) "
   ]
  },
  {
   "cell_type": "code",
   "execution_count": 29,
   "metadata": {},
   "outputs": [],
   "source": [
    "from keras.preprocessing.text import Tokenizer"
   ]
  },
  {
   "cell_type": "code",
   "execution_count": 164,
   "metadata": {},
   "outputs": [
    {
     "name": "stdout",
     "output_type": "stream",
     "text": [
      "Found 14920 unique tokens.\n"
     ]
    }
   ],
   "source": [
    "# from keras.preprocessing.text import Tokenizer\n",
    "# # We create a tokenizer, configured to only take\n",
    "# # into account the top-1000 most common words\n",
    "# tokenizer = Tokenizer()\n",
    "# # This builds the word index\n",
    "# tokenizer.fit_on_texts(NEWS_COMBINE['tokened_para'])\n",
    "\n",
    "# # This turns strings into lists of integer indices.\n",
    "# sequences = tokenizer.texts_to_sequences(NEWS_COMBINE['tokened_para'])\n",
    "\n",
    "# # You could also directly get the one-hot binary representations.\n",
    "# # Note that other vectorization modes than one-hot encoding are supported!\n",
    "# one_hot_results = tokenizer.texts_to_matrix(NEWS_COMBINE['tokened_para'], mode='binary')\n",
    "\n",
    "# # This is how you can recover the word index that was computed\n",
    "# word_index = tokenizer.word_index\n",
    "# print('Found %s unique tokens.' % len(word_index))"
   ]
  },
  {
   "cell_type": "code",
   "execution_count": 30,
   "metadata": {},
   "outputs": [],
   "source": [
    "from keras.datasets import imdb\n",
    "from keras.preprocessing import sequence\n",
    "\n",
    "# max_features = 10000  # number of words to consider as features\n",
    "# maxlen = 500  # cut texts after this number of words (among top max_features most common words)\n",
    "# batch_size = 32\n",
    "\n",
    "# print('Loading data...')\n",
    "# (input_train, y_train), (input_test, y_test) = imdb.load_data(num_words=max_features)\n",
    "# print(len(input_train), 'train sequences')\n",
    "# print(len(input_test), 'test sequences')\n",
    "\n",
    "# print('Pad sequences (samples x time)')\n",
    "# input_train = sequence.pad_sequences(input_train, maxlen=maxlen)\n",
    "# input_test = sequence.pad_sequences(input_test, maxlen=maxlen)\n"
   ]
  },
  {
   "cell_type": "code",
   "execution_count": 31,
   "metadata": {},
   "outputs": [],
   "source": [
    "from keras.layers import Embedding\n",
    "from keras import preprocessing\n",
    "import numpy as np\n",
    "from sklearn.model_selection import train_test_split\n",
    "from numpy import array\n",
    "from numpy import asarray\n",
    "from numpy import zeros\n",
    "from keras.preprocessing.text import Tokenizer\n",
    "from keras.preprocessing.sequence import pad_sequences\n",
    "from keras.models import Sequential\n",
    "from keras.layers import Dense\n",
    "from keras.layers import Flatten\n",
    "from keras.layers import Embedding\n",
    "from keras.preprocessing import sequence\n",
    "from keras.layers import Embedding, SimpleRNN\n",
    "\n",
    "X_train, X_test, y_train, y_test = train_test_split(NEWS_COMBINE[\"tokened_para\"],NEWS_COMBINE.iloc[:,-1],test_size=0.33,random_state=42)\n",
    "embedding_layer=Embedding(1000,64)\n"
   ]
  },
  {
   "cell_type": "code",
   "execution_count": 37,
   "metadata": {},
   "outputs": [],
   "source": [
    "# from the Tfid the max_feature is xBTrainTfidf.shape\n",
    "max_feature=xBTrainTfidf.shape[1]\n",
    "# max_feature=10000\n",
    "# select the top 500 in the sequence\n",
    "maxlen=500\n",
    "\n",
    "tk = Tokenizer()\n",
    "tk.fit_on_texts(X_train)\n",
    "X_train_seq = tk.texts_to_sequences(X_train)\n",
    "X_test_seq = tk.texts_to_sequences(X_test)\n",
    "\n",
    "X_train_seq_trunc = pad_sequences(X_train_seq, maxlen=maxlen)\n",
    "X_test_seq_trunc = pad_sequences(X_test_seq, maxlen=maxlen)"
   ]
  },
  {
   "cell_type": "code",
   "execution_count": 151,
   "metadata": {},
   "outputs": [],
   "source": [
    "# t = Tokenizer()\n",
    "# t.fit_on_texts(X_train)\n",
    "# # vocab_size = len(t.word_index) + 1\n",
    "# vocab_size = 7335\n",
    "# X_encoded_train = t.texts_to_sequences(X_train)\n",
    "# X_encoded_train11 = preprocessing.sequence.pad_sequences(X_encoded_train, maxlen=maxlen, padding='post')"
   ]
  },
  {
   "cell_type": "code",
   "execution_count": 149,
   "metadata": {},
   "outputs": [],
   "source": [
    "# embedding_matrix = zeros((vocab_size, 100))\n",
    "# for word, i in t.word_index.items():\n",
    "#     embedding_vector = word_index.get(word)\n",
    "#     if embedding_vector is not None:\n",
    "#         embedding_matrix[i] = embedding_vector"
   ]
  },
  {
   "cell_type": "code",
   "execution_count": 130,
   "metadata": {},
   "outputs": [],
   "source": [
    "model_Simple = Sequential()\n",
    "model_Simple.add(layers.Embedding(max_feature, 8, input_length=maxlen))\n",
    "model_Simple.add(SimpleRNN(32))\n",
    "model_Simple.add(Dense(1, activation='sigmoid'))\n",
    "\n",
    "model_Simple.compile(optimizer='rmsprop', loss='binary_crossentropy', metrics=['acc'])\n",
    "history = model_Simple.fit(X_train_seq_trunc, y_train,\n",
    "                    epochs=30,\n",
    "                    batch_size=128,\n",
    "                    validation_split=0.2)"
   ]
  },
  {
   "cell_type": "code",
   "execution_count": 162,
   "metadata": {},
   "outputs": [
    {
     "data": {
      "text/plain": [
       "(7335, 500)"
      ]
     },
     "execution_count": 162,
     "metadata": {},
     "output_type": "execute_result"
    }
   ],
   "source": [
    "import matplotlib.pyplot as plt\n",
    "\n",
    "acc = history.history['acc']\n",
    "val_acc = history.history['val_acc']\n",
    "loss = history.history['loss']\n",
    "val_loss = history.history['val_loss']\n",
    "\n",
    "epochs = range(len(acc))\n",
    "\n",
    "plt.plot(epochs, acc, 'bo', label='Training acc')\n",
    "plt.plot(epochs, val_acc, 'b', label='Validation acc')\n",
    "plt.title('Training and validation accuracy of SimpleRNN')\n",
    "plt.legend()\n",
    "\n",
    "plt.figure()\n",
    "\n",
    "plt.plot(epochs, loss, 'bo', label='Training loss')\n",
    "plt.plot(epochs, val_loss, 'b', label='Validation loss')\n",
    "plt.title('Training and validation loss of SimpleRNN')\n",
    "plt.legend()\n",
    "\n",
    "plt.show()"
   ]
  },
  {
   "cell_type": "code",
   "execution_count": 38,
   "metadata": {},
   "outputs": [
    {
     "name": "stderr",
     "output_type": "stream",
     "text": [
      "C:\\Users\\yuzhu\\anaconda3\\lib\\site-packages\\tensorflow_core\\python\\framework\\indexed_slices.py:424: UserWarning: Converting sparse IndexedSlices to a dense Tensor of unknown shape. This may consume a large amount of memory.\n",
      "  \"Converting sparse IndexedSlices to a dense Tensor of unknown shape. \"\n"
     ]
    },
    {
     "name": "stdout",
     "output_type": "stream",
     "text": [
      "Train on 5868 samples, validate on 1467 samples\n",
      "Epoch 1/10\n",
      "5868/5868 [==============================] - 3s 496us/step - loss: 0.4187 - acc: 0.8555 - val_loss: 0.3650 - val_acc: 0.8664\n",
      "Epoch 2/10\n",
      "5868/5868 [==============================] - 3s 452us/step - loss: 0.3507 - acc: 0.8560 - val_loss: 0.3043 - val_acc: 0.8664\n",
      "Epoch 3/10\n",
      "5868/5868 [==============================] - 3s 526us/step - loss: 0.2665 - acc: 0.8620 - val_loss: 0.2172 - val_acc: 0.8787\n",
      "Epoch 4/10\n",
      "5868/5868 [==============================] - 3s 506us/step - loss: 0.1793 - acc: 0.9271 - val_loss: 0.1411 - val_acc: 0.9577\n",
      "Epoch 5/10\n",
      "5868/5868 [==============================] - 3s 481us/step - loss: 0.1087 - acc: 0.9806 - val_loss: 0.0859 - val_acc: 0.9809\n",
      "Epoch 6/10\n",
      "5868/5868 [==============================] - 3s 498us/step - loss: 0.0634 - acc: 0.9923 - val_loss: 0.0520 - val_acc: 0.9932\n",
      "Epoch 7/10\n",
      "5868/5868 [==============================] - 3s 494us/step - loss: 0.0371 - acc: 0.9954 - val_loss: 0.0317 - val_acc: 1.0000\n",
      "Epoch 8/10\n",
      "5868/5868 [==============================] - 3s 490us/step - loss: 0.0217 - acc: 0.9981 - val_loss: 0.0211 - val_acc: 1.0000\n",
      "Epoch 9/10\n",
      "5868/5868 [==============================] - 3s 508us/step - loss: 0.0129 - acc: 0.9997 - val_loss: 0.0130 - val_acc: 1.0000cc: 0.99\n",
      "Epoch 10/10\n",
      "5868/5868 [==============================] - 3s 509us/step - loss: 0.0079 - acc: 1.0000 - val_loss: 0.0076 - val_acc: 1.0000\n"
     ]
    }
   ],
   "source": [
    "%%time\n",
    "from keras import models\n",
    "from keras import layers\n",
    "model_Flatten = models.Sequential()\n",
    "model_Flatten.add(layers.Embedding(max_feature, 8, input_length=maxlen))\n",
    "model_Flatten.add(layers.Flatten())\n",
    "model_Flatten.add(Dense(1, activation='sigmoid'))\n",
    "\n",
    "model_Flatten.compile(optimizer='rmsprop', loss='binary_crossentropy', metrics=['acc'])\n",
    "history = model_Flatten.fit(X_train_seq_trunc, y_train,\n",
    "                    epochs=30,\n",
    "                    batch_size=128,\n",
    "                    validation_split=0.2)"
   ]
  },
  {
   "cell_type": "code",
   "execution_count": 39,
   "metadata": {},
   "outputs": [
    {
     "data": {
      "image/png": "[encoded data removed]",
      "text/plain": [
       "<Figure size 432x288 with 1 Axes>"
      ]
     },
     "metadata": {
      "needs_background": "light"
     },
     "output_type": "display_data"
    },
    {
     "data": {
      "image/png": "[encoded data removed]",
      "text/plain": [
       "<Figure size 432x288 with 1 Axes>"
      ]
     },
     "metadata": {
      "needs_background": "light"
     },
     "output_type": "display_data"
    }
   ],
   "source": [
    "import matplotlib.pyplot as plt\n",
    "\n",
    "acc = history.history['acc']\n",
    "val_acc = history.history['val_acc']\n",
    "loss = history.history['loss']\n",
    "val_loss = history.history['val_loss']\n",
    "\n",
    "epochs = range(len(acc))\n",
    "\n",
    "plt.plot(epochs, acc, 'bo', label='Training acc')\n",
    "plt.plot(epochs, val_acc, 'b', label='Validation acc')\n",
    "plt.title('Training and validation accuracy of Flatten')\n",
    "plt.legend()\n",
    "\n",
    "plt.figure()\n",
    "\n",
    "plt.plot(epochs, loss, 'bo', label='Training loss')\n",
    "plt.plot(epochs, val_loss, 'b', label='Validation loss')\n",
    "plt.title('Training and validation loss of Flatten')\n",
    "plt.legend()\n",
    "\n",
    "plt.show()"
   ]
  },
  {
   "cell_type": "code",
   "execution_count": 43,
   "metadata": {},
   "outputs": [
    {
     "name": "stderr",
     "output_type": "stream",
     "text": [
      "C:\\Users\\yuzhu\\anaconda3\\lib\\site-packages\\tensorflow_core\\python\\framework\\indexed_slices.py:424: UserWarning: Converting sparse IndexedSlices to a dense Tensor of unknown shape. This may consume a large amount of memory.\n",
      "  \"Converting sparse IndexedSlices to a dense Tensor of unknown shape. \"\n"
     ]
    },
    {
     "name": "stdout",
     "output_type": "stream",
     "text": [
      "Train on 5868 samples, validate on 1467 samples\n",
      "Epoch 1/10\n",
      "5868/5868 [==============================] - 21s 4ms/step - loss: 0.4308 - acc: 0.8492 - val_loss: 0.3266 - val_acc: 0.8664\n",
      "Epoch 2/10\n",
      "5868/5868 [==============================] - 22s 4ms/step - loss: 0.2103 - acc: 0.9160 - val_loss: 0.1090 - val_acc: 0.9768\n",
      "Epoch 3/10\n",
      "5868/5868 [==============================] - 23s 4ms/step - loss: 0.1175 - acc: 0.9804 - val_loss: 0.0599 - val_acc: 0.9898\n",
      "Epoch 4/10\n",
      "5868/5868 [==============================] - 23s 4ms/step - loss: 0.0665 - acc: 0.9916 - val_loss: 0.0374 - val_acc: 1.0000\n",
      "Epoch 5/10\n",
      "5868/5868 [==============================] - 22s 4ms/step - loss: 0.0318 - acc: 0.9968 - val_loss: 0.0842 - val_acc: 0.9591\n",
      "Epoch 6/10\n",
      "5868/5868 [==============================] - 24s 4ms/step - loss: 0.0223 - acc: 0.9973 - val_loss: 0.0105 - val_acc: 1.0000\n",
      "Epoch 7/10\n",
      "5868/5868 [==============================] - 25s 4ms/step - loss: 0.0242 - acc: 0.9910 - val_loss: 0.0319 - val_acc: 0.9823\n",
      "Epoch 8/10\n",
      "5868/5868 [==============================] - 24s 4ms/step - loss: 0.0082 - acc: 0.9985 - val_loss: 0.0064 - val_acc: 0.9993\n",
      "Epoch 9/10\n",
      "5868/5868 [==============================] - 26s 4ms/step - loss: 0.0049 - acc: 0.9993 - val_loss: 0.0027 - val_acc: 1.0000\n",
      "Epoch 10/10\n",
      "5868/5868 [==============================] - 25s 4ms/step - loss: 0.0015 - acc: 1.0000 - val_loss: 0.0012 - val_acc: 1.0000\n",
      "Wall time: 3min 57s\n"
     ]
    }
   ],
   "source": [
    "%%time\n",
    "#optimizer is RMSprop\n",
    "from keras.layers import LSTM\n",
    "from keras import models\n",
    "from keras import layers\n",
    "model_LSTM = models.Sequential()\n",
    "model_LSTM.add(layers.Embedding(max_feature, 8, input_length=maxlen))\n",
    "model_LSTM.add(layers.LSTM(32))\n",
    "model_LSTM.add(Dense(1, activation='sigmoid'))\n",
    "\n",
    "model_LSTM.compile(optimizer='rmsprop', loss='binary_crossentropy', metrics=['acc'])\n",
    "history = model_LSTM.fit(X_train_seq_trunc, y_train,\n",
    "                    epochs=10,\n",
    "                    batch_size=128,\n",
    "                    validation_split=0.2)\n"
   ]
  },
  {
   "cell_type": "code",
   "execution_count": 44,
   "metadata": {},
   "outputs": [
    {
     "data": {
      "image/png": "[encoded data removed]",
      "text/plain": [
       "<Figure size 432x288 with 1 Axes>"
      ]
     },
     "metadata": {
      "needs_background": "light"
     },
     "output_type": "display_data"
    },
    {
     "data": {
      "image/png": "[encoded data removed]",
      "text/plain": [
       "<Figure size 432x288 with 1 Axes>"
      ]
     },
     "metadata": {
      "needs_background": "light"
     },
     "output_type": "display_data"
    }
   ],
   "source": [
    "acc = history.history['acc']\n",
    "val_acc = history.history['val_acc']\n",
    "loss = history.history['loss']\n",
    "val_loss = history.history['val_loss']\n",
    "\n",
    "epochs = range(len(acc))\n",
    "\n",
    "plt.plot(epochs, acc, 'bo', label='Training acc')\n",
    "plt.plot(epochs, val_acc, 'b', label='Validation acc')\n",
    "plt.title('Training and validation accuracy of LSTM')\n",
    "plt.legend()\n",
    "\n",
    "plt.figure()\n",
    "\n",
    "plt.plot(epochs, loss, 'bo', label='Training loss')\n",
    "plt.plot(epochs, val_loss, 'b', label='Validation loss')\n",
    "plt.title('Training and validation loss of LSTM')\n",
    "plt.legend()\n",
    "\n",
    "plt.show()"
   ]
  },
  {
   "cell_type": "code",
   "execution_count": 45,
   "metadata": {},
   "outputs": [
    {
     "name": "stderr",
     "output_type": "stream",
     "text": [
      "C:\\Users\\yuzhu\\anaconda3\\lib\\site-packages\\tensorflow_core\\python\\framework\\indexed_slices.py:424: UserWarning: Converting sparse IndexedSlices to a dense Tensor of unknown shape. This may consume a large amount of memory.\n",
      "  \"Converting sparse IndexedSlices to a dense Tensor of unknown shape. \"\n"
     ]
    },
    {
     "name": "stdout",
     "output_type": "stream",
     "text": [
      "Train on 5868 samples, validate on 1467 samples\n",
      "Epoch 1/10\n",
      "5868/5868 [==============================] - 24s 4ms/step - loss: 0.5133 - acc: 0.8504 - val_loss: 0.3762 - val_acc: 0.8664\n",
      "Epoch 2/10\n",
      "5868/5868 [==============================] - 24s 4ms/step - loss: 0.3052 - acc: 0.8666 - val_loss: 0.1475 - val_acc: 0.9864\n",
      "Epoch 3/10\n",
      "5868/5868 [==============================] - 24s 4ms/step - loss: 0.1287 - acc: 0.9993 - val_loss: 0.0699 - val_acc: 1.0000\n",
      "Epoch 4/10\n",
      "5868/5868 [==============================] - 24s 4ms/step - loss: 0.0993 - acc: 0.9910 - val_loss: 0.1000 - val_acc: 0.9870\n",
      "Epoch 5/10\n",
      "5868/5868 [==============================] - 25s 4ms/step - loss: 0.0703 - acc: 0.9879 - val_loss: 0.0593 - val_acc: 0.9870\n",
      "Epoch 6/10\n",
      "5868/5868 [==============================] - 24s 4ms/step - loss: 0.0509 - acc: 0.9884 - val_loss: 0.0475 - val_acc: 0.9877\n",
      "Epoch 7/10\n",
      "5868/5868 [==============================] - 22s 4ms/step - loss: 0.0409 - acc: 0.9889 - val_loss: 0.0391 - val_acc: 0.9891\n",
      "Epoch 8/10\n",
      "5868/5868 [==============================] - 25s 4ms/step - loss: 0.0329 - acc: 0.9893 - val_loss: 0.0318 - val_acc: 0.9905\n",
      "Epoch 9/10\n",
      "5868/5868 [==============================] - 25s 4ms/step - loss: 0.0261 - acc: 0.9966 - val_loss: 0.0255 - val_acc: 0.9986\n",
      "Epoch 10/10\n",
      "5868/5868 [==============================] - 25s 4ms/step - loss: 0.0202 - acc: 0.9997 - val_loss: 0.0203 - val_acc: 0.9986\n",
      "Wall time: 4min 4s\n"
     ]
    }
   ],
   "source": [
    "%%time\n",
    "#optimizer is Adam\n",
    "from keras.layers import LSTM\n",
    "from keras import models\n",
    "from keras import layers\n",
    "model_ADM_LSTM = models.Sequential()\n",
    "model_ADM_LSTM.add(layers.Embedding(max_feature, 8, input_length=maxlen))\n",
    "model_ADM_LSTM.add(layers.LSTM(32))\n",
    "model_ADM_LSTM.add(Dense(1, activation='sigmoid'))\n",
    "\n",
    "model_ADM_LSTM.compile(optimizer='adam', loss='binary_crossentropy', metrics=['acc'])\n",
    "history = model_ADM_LSTM.fit(X_train_seq_trunc, y_train,\n",
    "                    epochs=10,\n",
    "                    batch_size=128,\n",
    "                    validation_split=0.2)"
   ]
  },
  {
   "cell_type": "code",
   "execution_count": 46,
   "metadata": {},
   "outputs": [
    {
     "data": {
      "image/png": "[encoded data removed]",
      "text/plain": [
       "<Figure size 432x288 with 1 Axes>"
      ]
     },
     "metadata": {
      "needs_background": "light"
     },
     "output_type": "display_data"
    },
    {
     "data": {
      "image/png": "[encoded data removed]",
      "text/plain": [
       "<Figure size 432x288 with 1 Axes>"
      ]
     },
     "metadata": {
      "needs_background": "light"
     },
     "output_type": "display_data"
    }
   ],
   "source": [
    "acc = history.history['acc']\n",
    "val_acc = history.history['val_acc']\n",
    "loss = history.history['loss']\n",
    "val_loss = history.history['val_loss']\n",
    "\n",
    "epochs = range(len(acc))\n",
    "\n",
    "plt.plot(epochs, acc, 'bo', label='Training acc')\n",
    "plt.plot(epochs, val_acc, 'b', label='Validation acc')\n",
    "plt.title('Training and validation accuracy of Adam LSTM')\n",
    "plt.legend()\n",
    "\n",
    "plt.figure()\n",
    "\n",
    "plt.plot(epochs, loss, 'bo', label='Training loss')\n",
    "plt.plot(epochs, val_loss, 'b', label='Validation loss')\n",
    "plt.title('Training and validation loss of Adam LSTM')\n",
    "plt.legend()\n",
    "\n",
    "plt.show()"
   ]
  },
  {
   "cell_type": "code",
   "execution_count": 51,
   "metadata": {},
   "outputs": [
    {
     "name": "stderr",
     "output_type": "stream",
     "text": [
      "C:\\Users\\yuzhu\\anaconda3\\lib\\site-packages\\tensorflow_core\\python\\framework\\indexed_slices.py:424: UserWarning: Converting sparse IndexedSlices to a dense Tensor of unknown shape. This may consume a large amount of memory.\n",
      "  \"Converting sparse IndexedSlices to a dense Tensor of unknown shape. \"\n"
     ]
    },
    {
     "name": "stdout",
     "output_type": "stream",
     "text": [
      "Train on 5868 samples, validate on 1467 samples\n",
      "Epoch 1/10\n",
      "5868/5868 [==============================] - 78s 13ms/step - loss: 0.5015 - acc: 0.8405 - val_loss: 0.3642 - val_acc: 0.8664\n",
      "Epoch 2/10\n",
      "5868/5868 [==============================] - 168s 29ms/step - loss: 0.2880 - acc: 0.8897 - val_loss: 0.2378 - val_acc: 1.0000\n",
      "Epoch 3/10\n",
      "5868/5868 [==============================] - 92s 16ms/step - loss: 0.1586 - acc: 0.9957 - val_loss: 0.1132 - val_acc: 0.9993\n",
      "Epoch 4/10\n",
      "5868/5868 [==============================] - 89s 15ms/step - loss: 0.0970 - acc: 0.9927 - val_loss: 0.0821 - val_acc: 0.9898\n",
      "Epoch 5/10\n",
      "5868/5868 [==============================] - 91s 15ms/step - loss: 0.0708 - acc: 0.9925 - val_loss: 0.0598 - val_acc: 0.9966\n",
      "Epoch 6/10\n",
      "5868/5868 [==============================] - 90s 15ms/step - loss: 0.0665 - acc: 0.9963 - val_loss: 0.0419 - val_acc: 1.0000\n",
      "Epoch 7/10\n",
      "5868/5868 [==============================] - 91s 15ms/step - loss: 0.0333 - acc: 0.9998 - val_loss: 0.0279 - val_acc: 1.0000\n",
      "Epoch 8/10\n",
      "5868/5868 [==============================] - 91s 15ms/step - loss: 0.0215 - acc: 1.0000 - val_loss: 0.0141 - val_acc: 1.0000\n",
      "Epoch 9/10\n",
      "5868/5868 [==============================] - 91s 15ms/step - loss: 0.0107 - acc: 1.0000 - val_loss: 0.0098 - val_acc: 1.0000\n",
      "Epoch 10/10\n",
      "5868/5868 [==============================] - 90s 15ms/step - loss: 0.0076 - acc: 1.0000 - val_loss: 0.0067 - val_acc: 1.0000\n",
      "Wall time: 16min 12s\n"
     ]
    }
   ],
   "source": [
    "%%time\n",
    "#optimizer is Adam\n",
    "from keras.layers import LSTM\n",
    "from keras import models\n",
    "from keras import layers\n",
    "model_BiD_LSTM = models.Sequential()\n",
    "model_BiD_LSTM.add(layers.Embedding(max_feature, 8, input_length=maxlen))\n",
    "model_BiD_LSTM.add(layers.Bidirectional(layers.LSTM(32)))\n",
    "model_BiD_LSTM.add(Dense(1, activation='sigmoid'))\n",
    "\n",
    "model_BiD_LSTM.compile(optimizer='adam', loss='binary_crossentropy', metrics=['acc'])\n",
    "history = model_BiD_LSTM.fit(X_train_seq_trunc, y_train,\n",
    "                    epochs=10,\n",
    "                    batch_size=128,\n",
    "                    validation_split=0.2)"
   ]
  },
  {
   "cell_type": "code",
   "execution_count": 52,
   "metadata": {},
   "outputs": [
    {
     "data": {
      "image/png": "[encoded data removed]",
      "text/plain": [
       "<Figure size 432x288 with 1 Axes>"
      ]
     },
     "metadata": {
      "needs_background": "light"
     },
     "output_type": "display_data"
    },
    {
     "data": {
      "image/png": "[encoded data removed]",
      "text/plain": [
       "<Figure size 432x288 with 1 Axes>"
      ]
     },
     "metadata": {
      "needs_background": "light"
     },
     "output_type": "display_data"
    }
   ],
   "source": [
    "acc = history.history['acc']\n",
    "val_acc = history.history['val_acc']\n",
    "loss = history.history['loss']\n",
    "val_loss = history.history['val_loss']\n",
    "\n",
    "epochs = range(len(acc))\n",
    "\n",
    "plt.plot(epochs, acc, 'bo', label='Training acc')\n",
    "plt.plot(epochs, val_acc, 'b', label='Validation acc')\n",
    "plt.title('Training and validation accuracy of Bidirectional Adam LSTM')\n",
    "plt.legend()\n",
    "\n",
    "plt.figure()\n",
    "\n",
    "plt.plot(epochs, loss, 'bo', label='Training loss')\n",
    "plt.plot(epochs, val_loss, 'b', label='Validation loss')\n",
    "plt.title('Training and validation loss of Bidirectional Adam LSTM')\n",
    "plt.legend()\n",
    "\n",
    "plt.show()"
   ]
  },
  {
   "cell_type": "code",
   "execution_count": null,
   "metadata": {},
   "outputs": [],
   "source": []
  },
  {
   "cell_type": "code",
   "execution_count": null,
   "metadata": {},
   "outputs": [],
   "source": []
  },
  {
   "cell_type": "code",
   "execution_count": null,
   "metadata": {},
   "outputs": [],
   "source": []
  },
  {
   "cell_type": "code",
   "execution_count": null,
   "metadata": {},
   "outputs": [],
   "source": []
  },
  {
   "cell_type": "code",
   "execution_count": null,
   "metadata": {},
   "outputs": [],
   "source": []
  },
  {
   "cell_type": "code",
   "execution_count": null,
   "metadata": {},
   "outputs": [],
   "source": []
  },
  {
   "cell_type": "code",
   "execution_count": null,
   "metadata": {},
   "outputs": [],
   "source": []
  },
  {
   "cell_type": "code",
   "execution_count": null,
   "metadata": {},
   "outputs": [],
   "source": []
  }
 ],
 "metadata": {
  "kernelspec": {
   "display_name": "Python 3",
   "language": "python",
   "name": "python3"
  },
  "language_info": {
   "codemirror_mode": {
    "name": "ipython",
    "version": 3
   },
   "file_extension": ".py",
   "mimetype": "text/x-python",
   "name": "python",
   "nbconvert_exporter": "python",
   "pygments_lexer": "ipython3",
   "version": "3.7.7"
  }
 },
 "nbformat": 4,
 "nbformat_minor": 2
}
